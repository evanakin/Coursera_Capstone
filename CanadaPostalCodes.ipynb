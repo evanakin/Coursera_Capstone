{
 "cells": [
  {
   "cell_type": "markdown",
   "metadata": {},
   "source": [
    "# Wikitable Scrape Assignment"
   ]
  },
  {
   "cell_type": "code",
   "execution_count": 1,
   "metadata": {},
   "outputs": [],
   "source": [
    "#import needed libraries\n",
    "import pandas as pd\n",
    "import numpy as np\n",
    "import matplotlib.pyplot as plt\n",
    "from bs4 import BeautifulSoup\n",
    "import requests"
   ]
  },
  {
   "cell_type": "code",
   "execution_count": 2,
   "metadata": {},
   "outputs": [],
   "source": [
    "#link to wiki page with needed table\n",
    "source = requests.get('https://en.wikipedia.org/wiki/List_of_postal_codes_of_Canada:_M').text"
   ]
  },
  {
   "cell_type": "code",
   "execution_count": 3,
   "metadata": {},
   "outputs": [],
   "source": [
    "#variables and lists needed for the for loops below\n",
    "soup = BeautifulSoup(source, 'lxml')\n",
    "table = soup.find('table', class_='wikitable sortable')\n",
    "rows = table.findAll('tr')\n",
    "postcodes = []\n",
    "boroughs = []\n",
    "neighborhoods = []"
   ]
  },
  {
   "cell_type": "code",
   "execution_count": 4,
   "metadata": {},
   "outputs": [],
   "source": [
    "#extracting the wanted data\n",
    "for row in rows:\n",
    "    rows = row.findAll('td')\n",
    "    if len(rows) > 0 and rows[1].text != 'Not assigned':\n",
    "        cell1 = rows[0].text\n",
    "        postcodes.append(cell1)\n",
    "            \n",
    "        cell2 = rows[1].text\n",
    "        boroughs.append(cell2)\n",
    "            \n",
    "        cell3 = rows[2].text.split('\\n')[0]\n",
    "        neighborhoods.append(cell3)\n",
    "           \n",
    "for cell in rows:\n",
    "    if cell3 == 'Not assigned':\n",
    "        cell3 = cell2\n",
    "        neighborhoods.append(cell3)"
   ]
  },
  {
   "cell_type": "code",
   "execution_count": 5,
   "metadata": {},
   "outputs": [],
   "source": [
    "#transform into a pandas DataFrame\n",
    "df = pd.DataFrame(list(zip(postcodes,boroughs,neighborhoods)), columns=['PostalCode', 'Borough', 'Neighborhood'])\n",
    "df = df.groupby(['PostalCode','Borough'])['Neighborhood'].apply(', '.join).reset_index()"
   ]
  },
  {
   "cell_type": "code",
   "execution_count": 6,
   "metadata": {},
   "outputs": [],
   "source": [
    "#Save file to csv\n",
    "df.to_csv('CPC_DF')"
   ]
  },
  {
   "cell_type": "markdown",
   "metadata": {},
   "source": [
    "# Shape of the final DataFrame"
   ]
  },
  {
   "cell_type": "code",
   "execution_count": 7,
   "metadata": {},
   "outputs": [
    {
     "data": {
      "text/plain": [
       "(103, 3)"
      ]
     },
     "execution_count": 7,
     "metadata": {},
     "output_type": "execute_result"
    }
   ],
   "source": [
    "df.shape"
   ]
  },
  {
   "cell_type": "code",
   "execution_count": null,
   "metadata": {},
   "outputs": [],
   "source": []
  }
 ],
 "metadata": {
  "kernelspec": {
   "display_name": "Python 3",
   "language": "python",
   "name": "python3"
  },
  "language_info": {
   "codemirror_mode": {
    "name": "ipython",
    "version": 3
   },
   "file_extension": ".py",
   "mimetype": "text/x-python",
   "name": "python",
   "nbconvert_exporter": "python",
   "pygments_lexer": "ipython3",
   "version": "3.7.4"
  }
 },
 "nbformat": 4,
 "nbformat_minor": 2
}
